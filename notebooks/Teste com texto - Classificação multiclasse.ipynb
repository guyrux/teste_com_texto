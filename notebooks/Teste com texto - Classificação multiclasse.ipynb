{
 "cells": [
  {
   "cell_type": "code",
   "execution_count": 41,
   "metadata": {},
   "outputs": [],
   "source": [
    "try:\n",
    "    import pt_core_news_lg\n",
    "except:\n",
    "    !python -m spacy download pt_core_news_lg"
   ]
  },
  {
   "cell_type": "code",
   "execution_count": 1,
   "id": "bb3c4837",
   "metadata": {
    "ExecuteTime": {
     "end_time": "2021-05-27T11:26:54.798190Z",
     "start_time": "2021-05-27T11:26:50.222714Z"
    }
   },
   "outputs": [],
   "source": [
    "import re\n",
    "\n",
    "import matplotlib.pyplot as plt\n",
    "# from nltk.corpus import stopwords\n",
    "import numpy as np\n",
    "import pandas as pd\n",
    "import seaborn as sns\n",
    "import spacy\n",
    "\n",
    "from sklearn.model_selection import train_test_split\n",
    "from sklearn.feature_extraction.text import TfidfVectorizer\n",
    "from sklearn.multiclass import OneVsRestClassifier\n",
    "from sklearn.naive_bayes import MultinomialNB\n",
    "from sklearn.metrics import accuracy_score\n",
    "from sklearn.pipeline import Pipeline\n",
    "\n",
    "from spacy.lang.pt.stop_words import STOP_WORDS\n",
    "\n",
    "# stop_words = set(stopwords.words('english'))\n",
    "# nlp = pt_core_news_lg.load()\n",
    "\n",
    "input_folder = \"../data/\""
   ]
  },
  {
   "cell_type": "code",
   "execution_count": 43,
   "id": "75add3cc",
   "metadata": {
    "ExecuteTime": {
     "end_time": "2021-05-27T11:21:09.190721Z",
     "start_time": "2021-05-27T11:21:08.616305Z"
    }
   },
   "outputs": [
    {
     "output_type": "execute_result",
     "data": {
      "text/plain": [
       "                                              Título Categoria\n",
       "0  Em novo cronograma, Saúde reduz previsão de va...     Covid\n",
       "1  Mudança ocorre principalmente na estimativa de...     Covid\n",
       "2  Queiroga vê possível 3ª onda de Covid-19 e nec...     Covid\n",
       "3  Ministro participou de audiência na Câmara. Te...     Covid\n",
       "4  18 estados brasileiros registram mais mortes p...     Covid"
      ],
      "text/html": "<div>\n<style scoped>\n    .dataframe tbody tr th:only-of-type {\n        vertical-align: middle;\n    }\n\n    .dataframe tbody tr th {\n        vertical-align: top;\n    }\n\n    .dataframe thead th {\n        text-align: right;\n    }\n</style>\n<table border=\"1\" class=\"dataframe\">\n  <thead>\n    <tr style=\"text-align: right;\">\n      <th></th>\n      <th>Título</th>\n      <th>Categoria</th>\n    </tr>\n  </thead>\n  <tbody>\n    <tr>\n      <th>0</th>\n      <td>Em novo cronograma, Saúde reduz previsão de va...</td>\n      <td>Covid</td>\n    </tr>\n    <tr>\n      <th>1</th>\n      <td>Mudança ocorre principalmente na estimativa de...</td>\n      <td>Covid</td>\n    </tr>\n    <tr>\n      <th>2</th>\n      <td>Queiroga vê possível 3ª onda de Covid-19 e nec...</td>\n      <td>Covid</td>\n    </tr>\n    <tr>\n      <th>3</th>\n      <td>Ministro participou de audiência na Câmara. Te...</td>\n      <td>Covid</td>\n    </tr>\n    <tr>\n      <th>4</th>\n      <td>18 estados brasileiros registram mais mortes p...</td>\n      <td>Covid</td>\n    </tr>\n  </tbody>\n</table>\n</div>"
     },
     "metadata": {},
     "execution_count": 43
    }
   ],
   "source": [
    "df = pd.read_excel(input_folder+\"news.xlsx\")\n",
    "df.head()"
   ]
  },
  {
   "cell_type": "code",
   "execution_count": 44,
   "id": "f60c9c40",
   "metadata": {
    "ExecuteTime": {
     "end_time": "2021-05-27T11:24:37.471523Z",
     "start_time": "2021-05-27T11:24:37.450926Z"
    }
   },
   "outputs": [
    {
     "output_type": "execute_result",
     "data": {
      "text/plain": [
       "                                              Título Categoria\n",
       "0  em novo cronograma, saúde reduz previsão de va...     covid\n",
       "1  mudança ocorre principalmente na estimativa de...     covid\n",
       "2  queiroga vê possível 3ª onda de covid-19 e nec...     covid\n",
       "3  ministro participou de audiência na câmara. te...     covid\n",
       "4  18 estados brasileiros registram mais mortes p...     covid"
      ],
      "text/html": "<div>\n<style scoped>\n    .dataframe tbody tr th:only-of-type {\n        vertical-align: middle;\n    }\n\n    .dataframe tbody tr th {\n        vertical-align: top;\n    }\n\n    .dataframe thead th {\n        text-align: right;\n    }\n</style>\n<table border=\"1\" class=\"dataframe\">\n  <thead>\n    <tr style=\"text-align: right;\">\n      <th></th>\n      <th>Título</th>\n      <th>Categoria</th>\n    </tr>\n  </thead>\n  <tbody>\n    <tr>\n      <th>0</th>\n      <td>em novo cronograma, saúde reduz previsão de va...</td>\n      <td>covid</td>\n    </tr>\n    <tr>\n      <th>1</th>\n      <td>mudança ocorre principalmente na estimativa de...</td>\n      <td>covid</td>\n    </tr>\n    <tr>\n      <th>2</th>\n      <td>queiroga vê possível 3ª onda de covid-19 e nec...</td>\n      <td>covid</td>\n    </tr>\n    <tr>\n      <th>3</th>\n      <td>ministro participou de audiência na câmara. te...</td>\n      <td>covid</td>\n    </tr>\n    <tr>\n      <th>4</th>\n      <td>18 estados brasileiros registram mais mortes p...</td>\n      <td>covid</td>\n    </tr>\n  </tbody>\n</table>\n</div>"
     },
     "metadata": {},
     "execution_count": 44
    }
   ],
   "source": [
    "def clean_text(text):\n",
    "    text = text.lower()\n",
    "    text = text.strip(' ')\n",
    "    return text\n",
    "\n",
    "df_mod = df.copy()\n",
    "\n",
    "for column in df_mod.select_dtypes(include='object'):\n",
    "    df_mod[column] = df_mod[column].map(lambda com : clean_text(com))\n",
    "\n",
    "df_mod.head()"
   ]
  },
  {
   "cell_type": "code",
   "execution_count": 74,
   "metadata": {},
   "outputs": [
    {
     "output_type": "execute_result",
     "data": {
      "text/plain": [
       "           contagem\n",
       "Categoria          \n",
       "ambev            20\n",
       "videogame        20\n",
       "covid            28"
      ],
      "text/html": "<div>\n<style scoped>\n    .dataframe tbody tr th:only-of-type {\n        vertical-align: middle;\n    }\n\n    .dataframe tbody tr th {\n        vertical-align: top;\n    }\n\n    .dataframe thead th {\n        text-align: right;\n    }\n</style>\n<table border=\"1\" class=\"dataframe\">\n  <thead>\n    <tr style=\"text-align: right;\">\n      <th></th>\n      <th>contagem</th>\n    </tr>\n    <tr>\n      <th>Categoria</th>\n      <th></th>\n    </tr>\n  </thead>\n  <tbody>\n    <tr>\n      <th>ambev</th>\n      <td>20</td>\n    </tr>\n    <tr>\n      <th>videogame</th>\n      <td>20</td>\n    </tr>\n    <tr>\n      <th>covid</th>\n      <td>28</td>\n    </tr>\n  </tbody>\n</table>\n</div>"
     },
     "metadata": {},
     "execution_count": 74
    },
    {
     "output_type": "display_data",
     "data": {
      "text/plain": "<Figure size 432x288 with 1 Axes>",
      "image/svg+xml": "<?xml version=\"1.0\" encoding=\"utf-8\" standalone=\"no\"?>\r\n<!DOCTYPE svg PUBLIC \"-//W3C//DTD SVG 1.1//EN\"\r\n  \"http://www.w3.org/Graphics/SVG/1.1/DTD/svg11.dtd\">\r\n<svg height=\"308.205625pt\" version=\"1.1\" viewBox=\"0 0 368.925 308.205625\" width=\"368.925pt\" xmlns=\"http://www.w3.org/2000/svg\" xmlns:xlink=\"http://www.w3.org/1999/xlink\">\r\n <metadata>\r\n  <rdf:RDF xmlns:cc=\"http://creativecommons.org/ns#\" xmlns:dc=\"http://purl.org/dc/elements/1.1/\" xmlns:rdf=\"http://www.w3.org/1999/02/22-rdf-syntax-ns#\">\r\n   <cc:Work>\r\n    <dc:type rdf:resource=\"http://purl.org/dc/dcmitype/StillImage\"/>\r\n    <dc:date>2021-06-01T22:14:01.939341</dc:date>\r\n    <dc:format>image/svg+xml</dc:format>\r\n    <dc:creator>\r\n     <cc:Agent>\r\n      <dc:title>Matplotlib v3.4.2, https://matplotlib.org/</dc:title>\r\n     </cc:Agent>\r\n    </dc:creator>\r\n   </cc:Work>\r\n  </rdf:RDF>\r\n </metadata>\r\n <defs>\r\n  <style type=\"text/css\">*{stroke-linecap:butt;stroke-linejoin:round;}</style>\r\n </defs>\r\n <g id=\"figure_1\">\r\n  <g id=\"patch_1\">\r\n   <path d=\"M -0 308.205625 \r\nL 368.925 308.205625 \r\nL 368.925 0 \r\nL -0 0 \r\nz\r\n\" style=\"fill:none;\"/>\r\n  </g>\r\n  <g id=\"axes_1\">\r\n   <g id=\"patch_2\">\r\n    <path d=\"M 26.925 224.64 \r\nL 361.725 224.64 \r\nL 361.725 7.2 \r\nL 26.925 7.2 \r\nz\r\n\" style=\"fill:#ffffff;\"/>\r\n   </g>\r\n   <g id=\"patch_3\">\r\n    <path clip-path=\"url(#pba34dc07df)\" d=\"M 54.825 224.64 \r\nL 110.625 224.64 \r\nL 110.625 76.721633 \r\nL 54.825 76.721633 \r\nz\r\n\" style=\"fill:#1f77b4;\"/>\r\n   </g>\r\n   <g id=\"patch_4\">\r\n    <path clip-path=\"url(#pba34dc07df)\" d=\"M 166.425 224.64 \r\nL 222.225 224.64 \r\nL 222.225 76.721633 \r\nL 166.425 76.721633 \r\nz\r\n\" style=\"fill:#1f77b4;\"/>\r\n   </g>\r\n   <g id=\"patch_5\">\r\n    <path clip-path=\"url(#pba34dc07df)\" d=\"M 278.025 224.64 \r\nL 333.825 224.64 \r\nL 333.825 17.554286 \r\nL 278.025 17.554286 \r\nz\r\n\" style=\"fill:#1f77b4;\"/>\r\n   </g>\r\n   <g id=\"matplotlib.axis_1\">\r\n    <g id=\"xtick_1\">\r\n     <g id=\"line2d_1\">\r\n      <defs>\r\n       <path d=\"M 0 0 \r\nL 0 3.5 \r\n\" id=\"m612982b0ed\" style=\"stroke:#000000;stroke-width:0.8;\"/>\r\n      </defs>\r\n      <g>\r\n       <use style=\"stroke:#000000;stroke-width:0.8;\" x=\"82.725\" xlink:href=\"#m612982b0ed\" y=\"224.64\"/>\r\n      </g>\r\n     </g>\r\n     <g id=\"text_1\">\r\n      <!-- ambev -->\r\n      <g transform=\"translate(85.484375 265.929062)rotate(-90)scale(0.1 -0.1)\">\r\n       <defs>\r\n        <path d=\"M 2194 1759 \r\nQ 1497 1759 1228 1600 \r\nQ 959 1441 959 1056 \r\nQ 959 750 1161 570 \r\nQ 1363 391 1709 391 \r\nQ 2188 391 2477 730 \r\nQ 2766 1069 2766 1631 \r\nL 2766 1759 \r\nL 2194 1759 \r\nz\r\nM 3341 1997 \r\nL 3341 0 \r\nL 2766 0 \r\nL 2766 531 \r\nQ 2569 213 2275 61 \r\nQ 1981 -91 1556 -91 \r\nQ 1019 -91 701 211 \r\nQ 384 513 384 1019 \r\nQ 384 1609 779 1909 \r\nQ 1175 2209 1959 2209 \r\nL 2766 2209 \r\nL 2766 2266 \r\nQ 2766 2663 2505 2880 \r\nQ 2244 3097 1772 3097 \r\nQ 1472 3097 1187 3025 \r\nQ 903 2953 641 2809 \r\nL 641 3341 \r\nQ 956 3463 1253 3523 \r\nQ 1550 3584 1831 3584 \r\nQ 2591 3584 2966 3190 \r\nQ 3341 2797 3341 1997 \r\nz\r\n\" id=\"DejaVuSans-61\" transform=\"scale(0.015625)\"/>\r\n        <path d=\"M 3328 2828 \r\nQ 3544 3216 3844 3400 \r\nQ 4144 3584 4550 3584 \r\nQ 5097 3584 5394 3201 \r\nQ 5691 2819 5691 2113 \r\nL 5691 0 \r\nL 5113 0 \r\nL 5113 2094 \r\nQ 5113 2597 4934 2840 \r\nQ 4756 3084 4391 3084 \r\nQ 3944 3084 3684 2787 \r\nQ 3425 2491 3425 1978 \r\nL 3425 0 \r\nL 2847 0 \r\nL 2847 2094 \r\nQ 2847 2600 2669 2842 \r\nQ 2491 3084 2119 3084 \r\nQ 1678 3084 1418 2786 \r\nQ 1159 2488 1159 1978 \r\nL 1159 0 \r\nL 581 0 \r\nL 581 3500 \r\nL 1159 3500 \r\nL 1159 2956 \r\nQ 1356 3278 1631 3431 \r\nQ 1906 3584 2284 3584 \r\nQ 2666 3584 2933 3390 \r\nQ 3200 3197 3328 2828 \r\nz\r\n\" id=\"DejaVuSans-6d\" transform=\"scale(0.015625)\"/>\r\n        <path d=\"M 3116 1747 \r\nQ 3116 2381 2855 2742 \r\nQ 2594 3103 2138 3103 \r\nQ 1681 3103 1420 2742 \r\nQ 1159 2381 1159 1747 \r\nQ 1159 1113 1420 752 \r\nQ 1681 391 2138 391 \r\nQ 2594 391 2855 752 \r\nQ 3116 1113 3116 1747 \r\nz\r\nM 1159 2969 \r\nQ 1341 3281 1617 3432 \r\nQ 1894 3584 2278 3584 \r\nQ 2916 3584 3314 3078 \r\nQ 3713 2572 3713 1747 \r\nQ 3713 922 3314 415 \r\nQ 2916 -91 2278 -91 \r\nQ 1894 -91 1617 61 \r\nQ 1341 213 1159 525 \r\nL 1159 0 \r\nL 581 0 \r\nL 581 4863 \r\nL 1159 4863 \r\nL 1159 2969 \r\nz\r\n\" id=\"DejaVuSans-62\" transform=\"scale(0.015625)\"/>\r\n        <path d=\"M 3597 1894 \r\nL 3597 1613 \r\nL 953 1613 \r\nQ 991 1019 1311 708 \r\nQ 1631 397 2203 397 \r\nQ 2534 397 2845 478 \r\nQ 3156 559 3463 722 \r\nL 3463 178 \r\nQ 3153 47 2828 -22 \r\nQ 2503 -91 2169 -91 \r\nQ 1331 -91 842 396 \r\nQ 353 884 353 1716 \r\nQ 353 2575 817 3079 \r\nQ 1281 3584 2069 3584 \r\nQ 2775 3584 3186 3129 \r\nQ 3597 2675 3597 1894 \r\nz\r\nM 3022 2063 \r\nQ 3016 2534 2758 2815 \r\nQ 2500 3097 2075 3097 \r\nQ 1594 3097 1305 2825 \r\nQ 1016 2553 972 2059 \r\nL 3022 2063 \r\nz\r\n\" id=\"DejaVuSans-65\" transform=\"scale(0.015625)\"/>\r\n        <path d=\"M 191 3500 \r\nL 800 3500 \r\nL 1894 563 \r\nL 2988 3500 \r\nL 3597 3500 \r\nL 2284 0 \r\nL 1503 0 \r\nL 191 3500 \r\nz\r\n\" id=\"DejaVuSans-76\" transform=\"scale(0.015625)\"/>\r\n       </defs>\r\n       <use xlink:href=\"#DejaVuSans-61\"/>\r\n       <use x=\"61.279297\" xlink:href=\"#DejaVuSans-6d\"/>\r\n       <use x=\"158.691406\" xlink:href=\"#DejaVuSans-62\"/>\r\n       <use x=\"222.167969\" xlink:href=\"#DejaVuSans-65\"/>\r\n       <use x=\"283.691406\" xlink:href=\"#DejaVuSans-76\"/>\r\n      </g>\r\n     </g>\r\n    </g>\r\n    <g id=\"xtick_2\">\r\n     <g id=\"line2d_2\">\r\n      <g>\r\n       <use style=\"stroke:#000000;stroke-width:0.8;\" x=\"194.325\" xlink:href=\"#m612982b0ed\" y=\"224.64\"/>\r\n      </g>\r\n     </g>\r\n     <g id=\"text_2\">\r\n      <!-- videogame -->\r\n      <g transform=\"translate(197.084375 287.3275)rotate(-90)scale(0.1 -0.1)\">\r\n       <defs>\r\n        <path d=\"M 603 3500 \r\nL 1178 3500 \r\nL 1178 0 \r\nL 603 0 \r\nL 603 3500 \r\nz\r\nM 603 4863 \r\nL 1178 4863 \r\nL 1178 4134 \r\nL 603 4134 \r\nL 603 4863 \r\nz\r\n\" id=\"DejaVuSans-69\" transform=\"scale(0.015625)\"/>\r\n        <path d=\"M 2906 2969 \r\nL 2906 4863 \r\nL 3481 4863 \r\nL 3481 0 \r\nL 2906 0 \r\nL 2906 525 \r\nQ 2725 213 2448 61 \r\nQ 2172 -91 1784 -91 \r\nQ 1150 -91 751 415 \r\nQ 353 922 353 1747 \r\nQ 353 2572 751 3078 \r\nQ 1150 3584 1784 3584 \r\nQ 2172 3584 2448 3432 \r\nQ 2725 3281 2906 2969 \r\nz\r\nM 947 1747 \r\nQ 947 1113 1208 752 \r\nQ 1469 391 1925 391 \r\nQ 2381 391 2643 752 \r\nQ 2906 1113 2906 1747 \r\nQ 2906 2381 2643 2742 \r\nQ 2381 3103 1925 3103 \r\nQ 1469 3103 1208 2742 \r\nQ 947 2381 947 1747 \r\nz\r\n\" id=\"DejaVuSans-64\" transform=\"scale(0.015625)\"/>\r\n        <path d=\"M 1959 3097 \r\nQ 1497 3097 1228 2736 \r\nQ 959 2375 959 1747 \r\nQ 959 1119 1226 758 \r\nQ 1494 397 1959 397 \r\nQ 2419 397 2687 759 \r\nQ 2956 1122 2956 1747 \r\nQ 2956 2369 2687 2733 \r\nQ 2419 3097 1959 3097 \r\nz\r\nM 1959 3584 \r\nQ 2709 3584 3137 3096 \r\nQ 3566 2609 3566 1747 \r\nQ 3566 888 3137 398 \r\nQ 2709 -91 1959 -91 \r\nQ 1206 -91 779 398 \r\nQ 353 888 353 1747 \r\nQ 353 2609 779 3096 \r\nQ 1206 3584 1959 3584 \r\nz\r\n\" id=\"DejaVuSans-6f\" transform=\"scale(0.015625)\"/>\r\n        <path d=\"M 2906 1791 \r\nQ 2906 2416 2648 2759 \r\nQ 2391 3103 1925 3103 \r\nQ 1463 3103 1205 2759 \r\nQ 947 2416 947 1791 \r\nQ 947 1169 1205 825 \r\nQ 1463 481 1925 481 \r\nQ 2391 481 2648 825 \r\nQ 2906 1169 2906 1791 \r\nz\r\nM 3481 434 \r\nQ 3481 -459 3084 -895 \r\nQ 2688 -1331 1869 -1331 \r\nQ 1566 -1331 1297 -1286 \r\nQ 1028 -1241 775 -1147 \r\nL 775 -588 \r\nQ 1028 -725 1275 -790 \r\nQ 1522 -856 1778 -856 \r\nQ 2344 -856 2625 -561 \r\nQ 2906 -266 2906 331 \r\nL 2906 616 \r\nQ 2728 306 2450 153 \r\nQ 2172 0 1784 0 \r\nQ 1141 0 747 490 \r\nQ 353 981 353 1791 \r\nQ 353 2603 747 3093 \r\nQ 1141 3584 1784 3584 \r\nQ 2172 3584 2450 3431 \r\nQ 2728 3278 2906 2969 \r\nL 2906 3500 \r\nL 3481 3500 \r\nL 3481 434 \r\nz\r\n\" id=\"DejaVuSans-67\" transform=\"scale(0.015625)\"/>\r\n       </defs>\r\n       <use xlink:href=\"#DejaVuSans-76\"/>\r\n       <use x=\"59.179688\" xlink:href=\"#DejaVuSans-69\"/>\r\n       <use x=\"86.962891\" xlink:href=\"#DejaVuSans-64\"/>\r\n       <use x=\"150.439453\" xlink:href=\"#DejaVuSans-65\"/>\r\n       <use x=\"211.962891\" xlink:href=\"#DejaVuSans-6f\"/>\r\n       <use x=\"273.144531\" xlink:href=\"#DejaVuSans-67\"/>\r\n       <use x=\"336.621094\" xlink:href=\"#DejaVuSans-61\"/>\r\n       <use x=\"397.900391\" xlink:href=\"#DejaVuSans-6d\"/>\r\n       <use x=\"495.3125\" xlink:href=\"#DejaVuSans-65\"/>\r\n      </g>\r\n     </g>\r\n    </g>\r\n    <g id=\"xtick_3\">\r\n     <g id=\"line2d_3\">\r\n      <g>\r\n       <use style=\"stroke:#000000;stroke-width:0.8;\" x=\"305.925\" xlink:href=\"#m612982b0ed\" y=\"224.64\"/>\r\n      </g>\r\n     </g>\r\n     <g id=\"text_3\">\r\n      <!-- covid -->\r\n      <g transform=\"translate(308.684375 258.3025)rotate(-90)scale(0.1 -0.1)\">\r\n       <defs>\r\n        <path d=\"M 3122 3366 \r\nL 3122 2828 \r\nQ 2878 2963 2633 3030 \r\nQ 2388 3097 2138 3097 \r\nQ 1578 3097 1268 2742 \r\nQ 959 2388 959 1747 \r\nQ 959 1106 1268 751 \r\nQ 1578 397 2138 397 \r\nQ 2388 397 2633 464 \r\nQ 2878 531 3122 666 \r\nL 3122 134 \r\nQ 2881 22 2623 -34 \r\nQ 2366 -91 2075 -91 \r\nQ 1284 -91 818 406 \r\nQ 353 903 353 1747 \r\nQ 353 2603 823 3093 \r\nQ 1294 3584 2113 3584 \r\nQ 2378 3584 2631 3529 \r\nQ 2884 3475 3122 3366 \r\nz\r\n\" id=\"DejaVuSans-63\" transform=\"scale(0.015625)\"/>\r\n       </defs>\r\n       <use xlink:href=\"#DejaVuSans-63\"/>\r\n       <use x=\"54.980469\" xlink:href=\"#DejaVuSans-6f\"/>\r\n       <use x=\"116.162109\" xlink:href=\"#DejaVuSans-76\"/>\r\n       <use x=\"175.341797\" xlink:href=\"#DejaVuSans-69\"/>\r\n       <use x=\"203.125\" xlink:href=\"#DejaVuSans-64\"/>\r\n      </g>\r\n     </g>\r\n    </g>\r\n    <g id=\"text_4\">\r\n     <!-- Categoria -->\r\n     <g transform=\"translate(169.990625 298.925937)scale(0.1 -0.1)\">\r\n      <defs>\r\n       <path d=\"M 4122 4306 \r\nL 4122 3641 \r\nQ 3803 3938 3442 4084 \r\nQ 3081 4231 2675 4231 \r\nQ 1875 4231 1450 3742 \r\nQ 1025 3253 1025 2328 \r\nQ 1025 1406 1450 917 \r\nQ 1875 428 2675 428 \r\nQ 3081 428 3442 575 \r\nQ 3803 722 4122 1019 \r\nL 4122 359 \r\nQ 3791 134 3420 21 \r\nQ 3050 -91 2638 -91 \r\nQ 1578 -91 968 557 \r\nQ 359 1206 359 2328 \r\nQ 359 3453 968 4101 \r\nQ 1578 4750 2638 4750 \r\nQ 3056 4750 3426 4639 \r\nQ 3797 4528 4122 4306 \r\nz\r\n\" id=\"DejaVuSans-43\" transform=\"scale(0.015625)\"/>\r\n       <path d=\"M 1172 4494 \r\nL 1172 3500 \r\nL 2356 3500 \r\nL 2356 3053 \r\nL 1172 3053 \r\nL 1172 1153 \r\nQ 1172 725 1289 603 \r\nQ 1406 481 1766 481 \r\nL 2356 481 \r\nL 2356 0 \r\nL 1766 0 \r\nQ 1100 0 847 248 \r\nQ 594 497 594 1153 \r\nL 594 3053 \r\nL 172 3053 \r\nL 172 3500 \r\nL 594 3500 \r\nL 594 4494 \r\nL 1172 4494 \r\nz\r\n\" id=\"DejaVuSans-74\" transform=\"scale(0.015625)\"/>\r\n       <path d=\"M 2631 2963 \r\nQ 2534 3019 2420 3045 \r\nQ 2306 3072 2169 3072 \r\nQ 1681 3072 1420 2755 \r\nQ 1159 2438 1159 1844 \r\nL 1159 0 \r\nL 581 0 \r\nL 581 3500 \r\nL 1159 3500 \r\nL 1159 2956 \r\nQ 1341 3275 1631 3429 \r\nQ 1922 3584 2338 3584 \r\nQ 2397 3584 2469 3576 \r\nQ 2541 3569 2628 3553 \r\nL 2631 2963 \r\nz\r\n\" id=\"DejaVuSans-72\" transform=\"scale(0.015625)\"/>\r\n      </defs>\r\n      <use xlink:href=\"#DejaVuSans-43\"/>\r\n      <use x=\"69.824219\" xlink:href=\"#DejaVuSans-61\"/>\r\n      <use x=\"131.103516\" xlink:href=\"#DejaVuSans-74\"/>\r\n      <use x=\"170.3125\" xlink:href=\"#DejaVuSans-65\"/>\r\n      <use x=\"231.835938\" xlink:href=\"#DejaVuSans-67\"/>\r\n      <use x=\"295.3125\" xlink:href=\"#DejaVuSans-6f\"/>\r\n      <use x=\"356.494141\" xlink:href=\"#DejaVuSans-72\"/>\r\n      <use x=\"397.607422\" xlink:href=\"#DejaVuSans-69\"/>\r\n      <use x=\"425.390625\" xlink:href=\"#DejaVuSans-61\"/>\r\n     </g>\r\n    </g>\r\n   </g>\r\n   <g id=\"matplotlib.axis_2\">\r\n    <g id=\"ytick_1\">\r\n     <g id=\"line2d_4\">\r\n      <defs>\r\n       <path d=\"M 0 0 \r\nL -3.5 0 \r\n\" id=\"m2dfc0524a5\" style=\"stroke:#000000;stroke-width:0.8;\"/>\r\n      </defs>\r\n      <g>\r\n       <use style=\"stroke:#000000;stroke-width:0.8;\" x=\"26.925\" xlink:href=\"#m2dfc0524a5\" y=\"224.64\"/>\r\n      </g>\r\n     </g>\r\n     <g id=\"text_5\">\r\n      <!-- 0 -->\r\n      <g transform=\"translate(13.5625 228.439219)scale(0.1 -0.1)\">\r\n       <defs>\r\n        <path d=\"M 2034 4250 \r\nQ 1547 4250 1301 3770 \r\nQ 1056 3291 1056 2328 \r\nQ 1056 1369 1301 889 \r\nQ 1547 409 2034 409 \r\nQ 2525 409 2770 889 \r\nQ 3016 1369 3016 2328 \r\nQ 3016 3291 2770 3770 \r\nQ 2525 4250 2034 4250 \r\nz\r\nM 2034 4750 \r\nQ 2819 4750 3233 4129 \r\nQ 3647 3509 3647 2328 \r\nQ 3647 1150 3233 529 \r\nQ 2819 -91 2034 -91 \r\nQ 1250 -91 836 529 \r\nQ 422 1150 422 2328 \r\nQ 422 3509 836 4129 \r\nQ 1250 4750 2034 4750 \r\nz\r\n\" id=\"DejaVuSans-30\" transform=\"scale(0.015625)\"/>\r\n       </defs>\r\n       <use xlink:href=\"#DejaVuSans-30\"/>\r\n      </g>\r\n     </g>\r\n    </g>\r\n    <g id=\"ytick_2\">\r\n     <g id=\"line2d_5\">\r\n      <g>\r\n       <use style=\"stroke:#000000;stroke-width:0.8;\" x=\"26.925\" xlink:href=\"#m2dfc0524a5\" y=\"187.660408\"/>\r\n      </g>\r\n     </g>\r\n     <g id=\"text_6\">\r\n      <!-- 5 -->\r\n      <g transform=\"translate(13.5625 191.459627)scale(0.1 -0.1)\">\r\n       <defs>\r\n        <path d=\"M 691 4666 \r\nL 3169 4666 \r\nL 3169 4134 \r\nL 1269 4134 \r\nL 1269 2991 \r\nQ 1406 3038 1543 3061 \r\nQ 1681 3084 1819 3084 \r\nQ 2600 3084 3056 2656 \r\nQ 3513 2228 3513 1497 \r\nQ 3513 744 3044 326 \r\nQ 2575 -91 1722 -91 \r\nQ 1428 -91 1123 -41 \r\nQ 819 9 494 109 \r\nL 494 744 \r\nQ 775 591 1075 516 \r\nQ 1375 441 1709 441 \r\nQ 2250 441 2565 725 \r\nQ 2881 1009 2881 1497 \r\nQ 2881 1984 2565 2268 \r\nQ 2250 2553 1709 2553 \r\nQ 1456 2553 1204 2497 \r\nQ 953 2441 691 2322 \r\nL 691 4666 \r\nz\r\n\" id=\"DejaVuSans-35\" transform=\"scale(0.015625)\"/>\r\n       </defs>\r\n       <use xlink:href=\"#DejaVuSans-35\"/>\r\n      </g>\r\n     </g>\r\n    </g>\r\n    <g id=\"ytick_3\">\r\n     <g id=\"line2d_6\">\r\n      <g>\r\n       <use style=\"stroke:#000000;stroke-width:0.8;\" x=\"26.925\" xlink:href=\"#m2dfc0524a5\" y=\"150.680816\"/>\r\n      </g>\r\n     </g>\r\n     <g id=\"text_7\">\r\n      <!-- 10 -->\r\n      <g transform=\"translate(7.2 154.480035)scale(0.1 -0.1)\">\r\n       <defs>\r\n        <path d=\"M 794 531 \r\nL 1825 531 \r\nL 1825 4091 \r\nL 703 3866 \r\nL 703 4441 \r\nL 1819 4666 \r\nL 2450 4666 \r\nL 2450 531 \r\nL 3481 531 \r\nL 3481 0 \r\nL 794 0 \r\nL 794 531 \r\nz\r\n\" id=\"DejaVuSans-31\" transform=\"scale(0.015625)\"/>\r\n       </defs>\r\n       <use xlink:href=\"#DejaVuSans-31\"/>\r\n       <use x=\"63.623047\" xlink:href=\"#DejaVuSans-30\"/>\r\n      </g>\r\n     </g>\r\n    </g>\r\n    <g id=\"ytick_4\">\r\n     <g id=\"line2d_7\">\r\n      <g>\r\n       <use style=\"stroke:#000000;stroke-width:0.8;\" x=\"26.925\" xlink:href=\"#m2dfc0524a5\" y=\"113.701224\"/>\r\n      </g>\r\n     </g>\r\n     <g id=\"text_8\">\r\n      <!-- 15 -->\r\n      <g transform=\"translate(7.2 117.500443)scale(0.1 -0.1)\">\r\n       <use xlink:href=\"#DejaVuSans-31\"/>\r\n       <use x=\"63.623047\" xlink:href=\"#DejaVuSans-35\"/>\r\n      </g>\r\n     </g>\r\n    </g>\r\n    <g id=\"ytick_5\">\r\n     <g id=\"line2d_8\">\r\n      <g>\r\n       <use style=\"stroke:#000000;stroke-width:0.8;\" x=\"26.925\" xlink:href=\"#m2dfc0524a5\" y=\"76.721633\"/>\r\n      </g>\r\n     </g>\r\n     <g id=\"text_9\">\r\n      <!-- 20 -->\r\n      <g transform=\"translate(7.2 80.520851)scale(0.1 -0.1)\">\r\n       <defs>\r\n        <path d=\"M 1228 531 \r\nL 3431 531 \r\nL 3431 0 \r\nL 469 0 \r\nL 469 531 \r\nQ 828 903 1448 1529 \r\nQ 2069 2156 2228 2338 \r\nQ 2531 2678 2651 2914 \r\nQ 2772 3150 2772 3378 \r\nQ 2772 3750 2511 3984 \r\nQ 2250 4219 1831 4219 \r\nQ 1534 4219 1204 4116 \r\nQ 875 4013 500 3803 \r\nL 500 4441 \r\nQ 881 4594 1212 4672 \r\nQ 1544 4750 1819 4750 \r\nQ 2544 4750 2975 4387 \r\nQ 3406 4025 3406 3419 \r\nQ 3406 3131 3298 2873 \r\nQ 3191 2616 2906 2266 \r\nQ 2828 2175 2409 1742 \r\nQ 1991 1309 1228 531 \r\nz\r\n\" id=\"DejaVuSans-32\" transform=\"scale(0.015625)\"/>\r\n       </defs>\r\n       <use xlink:href=\"#DejaVuSans-32\"/>\r\n       <use x=\"63.623047\" xlink:href=\"#DejaVuSans-30\"/>\r\n      </g>\r\n     </g>\r\n    </g>\r\n    <g id=\"ytick_6\">\r\n     <g id=\"line2d_9\">\r\n      <g>\r\n       <use style=\"stroke:#000000;stroke-width:0.8;\" x=\"26.925\" xlink:href=\"#m2dfc0524a5\" y=\"39.742041\"/>\r\n      </g>\r\n     </g>\r\n     <g id=\"text_10\">\r\n      <!-- 25 -->\r\n      <g transform=\"translate(7.2 43.54126)scale(0.1 -0.1)\">\r\n       <use xlink:href=\"#DejaVuSans-32\"/>\r\n       <use x=\"63.623047\" xlink:href=\"#DejaVuSans-35\"/>\r\n      </g>\r\n     </g>\r\n    </g>\r\n   </g>\r\n   <g id=\"patch_6\">\r\n    <path d=\"M 26.925 224.64 \r\nL 26.925 7.2 \r\n\" style=\"fill:none;stroke:#000000;stroke-linecap:square;stroke-linejoin:miter;stroke-width:0.8;\"/>\r\n   </g>\r\n   <g id=\"patch_7\">\r\n    <path d=\"M 361.725 224.64 \r\nL 361.725 7.2 \r\n\" style=\"fill:none;stroke:#000000;stroke-linecap:square;stroke-linejoin:miter;stroke-width:0.8;\"/>\r\n   </g>\r\n   <g id=\"patch_8\">\r\n    <path d=\"M 26.925 224.64 \r\nL 361.725 224.64 \r\n\" style=\"fill:none;stroke:#000000;stroke-linecap:square;stroke-linejoin:miter;stroke-width:0.8;\"/>\r\n   </g>\r\n   <g id=\"patch_9\">\r\n    <path d=\"M 26.925 7.2 \r\nL 361.725 7.2 \r\n\" style=\"fill:none;stroke:#000000;stroke-linecap:square;stroke-linejoin:miter;stroke-width:0.8;\"/>\r\n   </g>\r\n   <g id=\"legend_1\">\r\n    <g id=\"patch_10\">\r\n     <path d=\"M 33.925 29.878125 \r\nL 116.170313 29.878125 \r\nQ 118.170313 29.878125 118.170313 27.878125 \r\nL 118.170313 14.2 \r\nQ 118.170313 12.2 116.170313 12.2 \r\nL 33.925 12.2 \r\nQ 31.925 12.2 31.925 14.2 \r\nL 31.925 27.878125 \r\nQ 31.925 29.878125 33.925 29.878125 \r\nz\r\n\" style=\"fill:#ffffff;opacity:0.8;stroke:#cccccc;stroke-linejoin:miter;\"/>\r\n    </g>\r\n    <g id=\"patch_11\">\r\n     <path d=\"M 35.925 23.798437 \r\nL 55.925 23.798437 \r\nL 55.925 16.798437 \r\nL 35.925 16.798437 \r\nz\r\n\" style=\"fill:#1f77b4;\"/>\r\n    </g>\r\n    <g id=\"text_11\">\r\n     <!-- contagem -->\r\n     <g transform=\"translate(63.925 23.798437)scale(0.1 -0.1)\">\r\n      <defs>\r\n       <path d=\"M 3513 2113 \r\nL 3513 0 \r\nL 2938 0 \r\nL 2938 2094 \r\nQ 2938 2591 2744 2837 \r\nQ 2550 3084 2163 3084 \r\nQ 1697 3084 1428 2787 \r\nQ 1159 2491 1159 1978 \r\nL 1159 0 \r\nL 581 0 \r\nL 581 3500 \r\nL 1159 3500 \r\nL 1159 2956 \r\nQ 1366 3272 1645 3428 \r\nQ 1925 3584 2291 3584 \r\nQ 2894 3584 3203 3211 \r\nQ 3513 2838 3513 2113 \r\nz\r\n\" id=\"DejaVuSans-6e\" transform=\"scale(0.015625)\"/>\r\n      </defs>\r\n      <use xlink:href=\"#DejaVuSans-63\"/>\r\n      <use x=\"54.980469\" xlink:href=\"#DejaVuSans-6f\"/>\r\n      <use x=\"116.162109\" xlink:href=\"#DejaVuSans-6e\"/>\r\n      <use x=\"179.541016\" xlink:href=\"#DejaVuSans-74\"/>\r\n      <use x=\"218.75\" xlink:href=\"#DejaVuSans-61\"/>\r\n      <use x=\"280.029297\" xlink:href=\"#DejaVuSans-67\"/>\r\n      <use x=\"343.505859\" xlink:href=\"#DejaVuSans-65\"/>\r\n      <use x=\"405.029297\" xlink:href=\"#DejaVuSans-6d\"/>\r\n     </g>\r\n    </g>\r\n   </g>\r\n  </g>\r\n </g>\r\n <defs>\r\n  <clipPath id=\"pba34dc07df\">\r\n   <rect height=\"217.44\" width=\"334.8\" x=\"26.925\" y=\"7.2\"/>\r\n  </clipPath>\r\n </defs>\r\n</svg>\r\n",
      "image/png": "[encoded data removed]"
     },
     "metadata": {
      "needs_background": "light"
     }
    }
   ],
   "source": [
    "contagem = df_mod.groupby([\"Categoria\"]).agg({\"Título\":\"nunique\"}).rename(columns={\"Título\": \"contagem\"})\n",
    "contagem.sort_values(by='contagem', inplace=True)\n",
    "contagem.plot(kind='bar');\n",
    "contagem"
   ]
  },
  {
   "cell_type": "code",
   "execution_count": 46,
   "metadata": {},
   "outputs": [
    {
     "output_type": "stream",
     "name": "stdout",
     "text": [
      "Tamanho dos datasets:\nTreino: 40\nTeste: 28\n"
     ]
    }
   ],
   "source": [
    "X_train, X_test, y_train, y_test = train_test_split(df_mod[\"Título\"], df_mod[\"Categoria\"], random_state=42, test_size=0.4, shuffle=True)\n",
    "\n",
    "print(f\"\"\"Tamanho dos datasets:\n",
    "Treino: {X_train.shape[0]}\n",
    "Teste: {X_test.shape[0]}\"\"\")"
   ]
  },
  {
   "cell_type": "code",
   "execution_count": 68,
   "metadata": {},
   "outputs": [
    {
     "output_type": "stream",
     "name": "stdout",
     "text": [
      "Test accuracy is 0.9286\n"
     ]
    }
   ],
   "source": [
    "categories = list(df_mod[\"Categoria\"].unique())\n",
    "\n",
    "NB_pipeline = Pipeline([\n",
    "                ('tfidf', TfidfVectorizer(stop_words=STOP_WORDS)),\n",
    "                ('clf', OneVsRestClassifier(MultinomialNB(\n",
    "                    fit_prior=True, class_prior=None)))])\n",
    "\n",
    "prediction_proba = {}\n",
    "\n",
    "# train the model using X_dtm & y\n",
    "NB_pipeline.fit(X_train, y_train)\n",
    "# compute the testing accuracy\n",
    "prediction = NB_pipeline.predict(X_test)\n",
    "prediction_proba = NB_pipeline.predict_proba(X_test)\n",
    "prediction_proba = pd.DataFrame(prediction_proba, index=X_test.index)\n",
    "print(f\"Test accuracy is {round(accuracy_score(y_test, prediction), 4)}\")\n"
   ]
  },
  {
   "cell_type": "code",
   "execution_count": 69,
   "metadata": {},
   "outputs": [
    {
     "output_type": "execute_result",
     "data": {
      "text/plain": [
       "                                               Título  Categoria   predição  \\\n",
       "5   dezoito estados brasileiros registraram mais m...      covid      covid   \n",
       "30  ampliação do horário de funcionamento de comér...      covid  videogame   \n",
       "54  playstation lança promoção de mídias física e ...  videogame      ambev   \n",
       "63  recebemos a seguinte informação: a playstation...  videogame  videogame   \n",
       "0   em novo cronograma, saúde reduz previsão de va...      covid      covid   \n",
       "16       ações ambev (abev3): saiba qual o preço hoje      ambev      ambev   \n",
       "49  vários jogos de ps4 e ps5, incluindo lançament...  videogame  videogame   \n",
       "48  days of play 2021 oferece jogos com até 80% de...  videogame  videogame   \n",
       "58  playstation trabalha em 'agentes' ia que vão j...  videogame  videogame   \n",
       "55  a sony deu início às novas ofertas da days of ...  videogame  videogame   \n",
       "4   18 estados brasileiros registram mais mortes p...      covid      covid   \n",
       "7   estudo com 1.095 pacientes internados com covi...      covid      covid   \n",
       "42  de acordo com a última pesquisa do instituto p...      covid      covid   \n",
       "13  ambev. o que é? empresa multinacional fabrican...      ambev      ambev   \n",
       "33  mais de 300 mil pessoas não tomaram a 2ª da do...      covid      covid   \n",
       "36  a prefeitura de ribeirão preto, interior de sã...      covid      covid   \n",
       "45  sp registra 3,22 milhões de casos e 109,2 mil ...      covid      covid   \n",
       "9   a ambev está desenvolvendo uma máquina de refi...      ambev      ambev   \n",
       "61  se você é fã do playstation, prepare-se para v...  videogame  videogame   \n",
       "46  prefeitura de sp inicia triagem para localizar...      covid      covid   \n",
       "65  a sony revelou os jogos que serão inclusos na ...  videogame  videogame   \n",
       "12  ambev, vivo, c&a e outras têm 2.000 vagas de e...      ambev      ambev   \n",
       "19  foi presidente da ambev e o primeiro president...      ambev      ambev   \n",
       "28  o governador de são paulo, joão doria (psdb), ...      covid      covid   \n",
       "25  a ambev está com mais de 300 vagas de emprego ...      ambev      ambev   \n",
       "47  por covid-19, ribeirão preto (sp) adota medida...      covid      covid   \n",
       "41  sp: 77% da vítimas fatais da covid-19 não conc...      covid      covid   \n",
       "31  sp anuncia vacinação contra covid para pessoas...      covid      covid   \n",
       "\n",
       "    probabilidade  \n",
       "5        0.348929  \n",
       "30       0.387924  \n",
       "54       0.424202  \n",
       "63       0.483746  \n",
       "0        0.523997  \n",
       "16       0.528891  \n",
       "49       0.531027  \n",
       "48       0.545109  \n",
       "58       0.559764  \n",
       "55       0.578180  \n",
       "4        0.598791  \n",
       "7        0.605821  \n",
       "42       0.608678  \n",
       "13       0.669249  \n",
       "33       0.678202  \n",
       "36       0.684633  \n",
       "45       0.684943  \n",
       "9        0.692817  \n",
       "61       0.716450  \n",
       "46       0.721094  \n",
       "65       0.729725  \n",
       "12       0.744003  \n",
       "19       0.747824  \n",
       "28       0.756098  \n",
       "25       0.777542  \n",
       "47       0.787098  \n",
       "41       0.787098  \n",
       "31       0.787386  "
      ],
      "text/html": "<div>\n<style scoped>\n    .dataframe tbody tr th:only-of-type {\n        vertical-align: middle;\n    }\n\n    .dataframe tbody tr th {\n        vertical-align: top;\n    }\n\n    .dataframe thead th {\n        text-align: right;\n    }\n</style>\n<table border=\"1\" class=\"dataframe\">\n  <thead>\n    <tr style=\"text-align: right;\">\n      <th></th>\n      <th>Título</th>\n      <th>Categoria</th>\n      <th>predição</th>\n      <th>probabilidade</th>\n    </tr>\n  </thead>\n  <tbody>\n    <tr>\n      <th>5</th>\n      <td>dezoito estados brasileiros registraram mais m...</td>\n      <td>covid</td>\n      <td>covid</td>\n      <td>0.348929</td>\n    </tr>\n    <tr>\n      <th>30</th>\n      <td>ampliação do horário de funcionamento de comér...</td>\n      <td>covid</td>\n      <td>videogame</td>\n      <td>0.387924</td>\n    </tr>\n    <tr>\n      <th>54</th>\n      <td>playstation lança promoção de mídias física e ...</td>\n      <td>videogame</td>\n      <td>ambev</td>\n      <td>0.424202</td>\n    </tr>\n    <tr>\n      <th>63</th>\n      <td>recebemos a seguinte informação: a playstation...</td>\n      <td>videogame</td>\n      <td>videogame</td>\n      <td>0.483746</td>\n    </tr>\n    <tr>\n      <th>0</th>\n      <td>em novo cronograma, saúde reduz previsão de va...</td>\n      <td>covid</td>\n      <td>covid</td>\n      <td>0.523997</td>\n    </tr>\n    <tr>\n      <th>16</th>\n      <td>ações ambev (abev3): saiba qual o preço hoje</td>\n      <td>ambev</td>\n      <td>ambev</td>\n      <td>0.528891</td>\n    </tr>\n    <tr>\n      <th>49</th>\n      <td>vários jogos de ps4 e ps5, incluindo lançament...</td>\n      <td>videogame</td>\n      <td>videogame</td>\n      <td>0.531027</td>\n    </tr>\n    <tr>\n      <th>48</th>\n      <td>days of play 2021 oferece jogos com até 80% de...</td>\n      <td>videogame</td>\n      <td>videogame</td>\n      <td>0.545109</td>\n    </tr>\n    <tr>\n      <th>58</th>\n      <td>playstation trabalha em 'agentes' ia que vão j...</td>\n      <td>videogame</td>\n      <td>videogame</td>\n      <td>0.559764</td>\n    </tr>\n    <tr>\n      <th>55</th>\n      <td>a sony deu início às novas ofertas da days of ...</td>\n      <td>videogame</td>\n      <td>videogame</td>\n      <td>0.578180</td>\n    </tr>\n    <tr>\n      <th>4</th>\n      <td>18 estados brasileiros registram mais mortes p...</td>\n      <td>covid</td>\n      <td>covid</td>\n      <td>0.598791</td>\n    </tr>\n    <tr>\n      <th>7</th>\n      <td>estudo com 1.095 pacientes internados com covi...</td>\n      <td>covid</td>\n      <td>covid</td>\n      <td>0.605821</td>\n    </tr>\n    <tr>\n      <th>42</th>\n      <td>de acordo com a última pesquisa do instituto p...</td>\n      <td>covid</td>\n      <td>covid</td>\n      <td>0.608678</td>\n    </tr>\n    <tr>\n      <th>13</th>\n      <td>ambev. o que é? empresa multinacional fabrican...</td>\n      <td>ambev</td>\n      <td>ambev</td>\n      <td>0.669249</td>\n    </tr>\n    <tr>\n      <th>33</th>\n      <td>mais de 300 mil pessoas não tomaram a 2ª da do...</td>\n      <td>covid</td>\n      <td>covid</td>\n      <td>0.678202</td>\n    </tr>\n    <tr>\n      <th>36</th>\n      <td>a prefeitura de ribeirão preto, interior de sã...</td>\n      <td>covid</td>\n      <td>covid</td>\n      <td>0.684633</td>\n    </tr>\n    <tr>\n      <th>45</th>\n      <td>sp registra 3,22 milhões de casos e 109,2 mil ...</td>\n      <td>covid</td>\n      <td>covid</td>\n      <td>0.684943</td>\n    </tr>\n    <tr>\n      <th>9</th>\n      <td>a ambev está desenvolvendo uma máquina de refi...</td>\n      <td>ambev</td>\n      <td>ambev</td>\n      <td>0.692817</td>\n    </tr>\n    <tr>\n      <th>61</th>\n      <td>se você é fã do playstation, prepare-se para v...</td>\n      <td>videogame</td>\n      <td>videogame</td>\n      <td>0.716450</td>\n    </tr>\n    <tr>\n      <th>46</th>\n      <td>prefeitura de sp inicia triagem para localizar...</td>\n      <td>covid</td>\n      <td>covid</td>\n      <td>0.721094</td>\n    </tr>\n    <tr>\n      <th>65</th>\n      <td>a sony revelou os jogos que serão inclusos na ...</td>\n      <td>videogame</td>\n      <td>videogame</td>\n      <td>0.729725</td>\n    </tr>\n    <tr>\n      <th>12</th>\n      <td>ambev, vivo, c&amp;a e outras têm 2.000 vagas de e...</td>\n      <td>ambev</td>\n      <td>ambev</td>\n      <td>0.744003</td>\n    </tr>\n    <tr>\n      <th>19</th>\n      <td>foi presidente da ambev e o primeiro president...</td>\n      <td>ambev</td>\n      <td>ambev</td>\n      <td>0.747824</td>\n    </tr>\n    <tr>\n      <th>28</th>\n      <td>o governador de são paulo, joão doria (psdb), ...</td>\n      <td>covid</td>\n      <td>covid</td>\n      <td>0.756098</td>\n    </tr>\n    <tr>\n      <th>25</th>\n      <td>a ambev está com mais de 300 vagas de emprego ...</td>\n      <td>ambev</td>\n      <td>ambev</td>\n      <td>0.777542</td>\n    </tr>\n    <tr>\n      <th>47</th>\n      <td>por covid-19, ribeirão preto (sp) adota medida...</td>\n      <td>covid</td>\n      <td>covid</td>\n      <td>0.787098</td>\n    </tr>\n    <tr>\n      <th>41</th>\n      <td>sp: 77% da vítimas fatais da covid-19 não conc...</td>\n      <td>covid</td>\n      <td>covid</td>\n      <td>0.787098</td>\n    </tr>\n    <tr>\n      <th>31</th>\n      <td>sp anuncia vacinação contra covid para pessoas...</td>\n      <td>covid</td>\n      <td>covid</td>\n      <td>0.787386</td>\n    </tr>\n  </tbody>\n</table>\n</div>"
     },
     "metadata": {},
     "execution_count": 69
    }
   ],
   "source": [
    "df_resposta = pd.concat([X_test, y_test], axis=1)\n",
    "df_resposta[\"predição\"] = prediction\n",
    "df_resposta[\"probabilidade\"] = df_final.loc[:, [0,1,2]].max(axis=1)\n",
    "\n",
    "df_resposta.sort_values(by=\"probabilidade\", ascending=True)\n",
    "# df_final = pd.concat([df_resposta, prediction_proba], axis=1)"
   ]
  },
  {
   "cell_type": "code",
   "execution_count": null,
   "metadata": {},
   "outputs": [],
   "source": []
  }
 ],
 "metadata": {
  "hide_input": false,
  "kernelspec": {
   "name": "python385jvsc74a57bd0b46774127468eb60956658e02b035395ccfb3c56b8d515578b2ffb2a6e5bf5cd",
   "display_name": "Python 3.8.5  ('.venv': pipenv)",
   "language": "python"
  },
  "language_info": {
   "codemirror_mode": {
    "name": "ipython",
    "version": 3
   },
   "file_extension": ".py",
   "mimetype": "text/x-python",
   "name": "python",
   "nbconvert_exporter": "python",
   "pygments_lexer": "ipython3",
   "version": "3.8.5"
  },
  "toc": {
   "base_numbering": 1,
   "nav_menu": {},
   "number_sections": true,
   "sideBar": true,
   "skip_h1_title": false,
   "title_cell": "Table of Contents",
   "title_sidebar": "Contents",
   "toc_cell": false,
   "toc_position": {},
   "toc_section_display": true,
   "toc_window_display": false
  },
  "metadata": {
   "interpreter": {
    "hash": "aa8e4de9f4426ab75fdef01f3d7947e2b3e9cfbdb80ba65115d4f20988c8517e"
   }
  }
 },
 "nbformat": 4,
 "nbformat_minor": 5
}