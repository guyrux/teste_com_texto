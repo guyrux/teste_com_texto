{
 "cells": [
  {
   "cell_type": "code",
   "execution_count": 10,
   "id": "bb3c4837",
   "metadata": {
    "ExecuteTime": {
     "end_time": "2021-05-27T11:26:54.798190Z",
     "start_time": "2021-05-27T11:26:50.222714Z"
    }
   },
   "outputs": [],
   "source": [
    "import re\n",
    "\n",
    "import matplotlib.pyplot as plt\n",
    "# from nltk.corpus import stopwords\n",
    "import numpy as np\n",
    "import pandas as pd\n",
    "import seaborn as sns\n",
    "import spacy\n",
    "import pt_core_news_lg\n",
    "\n",
    "from sklearn.model_selection import train_test_split\n",
    "from sklearn.feature_extraction.text import TfidfVectorizer\n",
    "from sklearn.naive_bayes import MultinomialNB\n",
    "from sklearn.metrics import accuracy_score\n",
    "from sklearn.multiclass import OneVsRestClassifier\n",
    "from sklearn.svm import LinearSVC\n",
    "from sklearn.linear_model import LogisticRegression\n",
    "from sklearn.pipeline import Pipeline\n",
    "\n",
    "# stop_words = set(stopwords.words('english'))\n",
    "nlp = pt_core_news_lg.load()\n",
    "\n",
    "input_folder = \"./data/\""
   ]
  },
  {
   "cell_type": "code",
   "execution_count": 2,
   "id": "75add3cc",
   "metadata": {
    "ExecuteTime": {
     "end_time": "2021-05-27T11:21:09.190721Z",
     "start_time": "2021-05-27T11:21:08.616305Z"
    }
   },
   "outputs": [
    {
     "data": {
      "text/html": [
       "<div>\n",
       "<style scoped>\n",
       "    .dataframe tbody tr th:only-of-type {\n",
       "        vertical-align: middle;\n",
       "    }\n",
       "\n",
       "    .dataframe tbody tr th {\n",
       "        vertical-align: top;\n",
       "    }\n",
       "\n",
       "    .dataframe thead th {\n",
       "        text-align: right;\n",
       "    }\n",
       "</style>\n",
       "<table border=\"1\" class=\"dataframe\">\n",
       "  <thead>\n",
       "    <tr style=\"text-align: right;\">\n",
       "      <th></th>\n",
       "      <th>Título</th>\n",
       "      <th>Categoria</th>\n",
       "    </tr>\n",
       "  </thead>\n",
       "  <tbody>\n",
       "    <tr>\n",
       "      <th>0</th>\n",
       "      <td>Em novo cronograma, Saúde reduz previsão de va...</td>\n",
       "      <td>Covid</td>\n",
       "    </tr>\n",
       "    <tr>\n",
       "      <th>1</th>\n",
       "      <td>Mudança ocorre principalmente na estimativa de...</td>\n",
       "      <td>Covid</td>\n",
       "    </tr>\n",
       "    <tr>\n",
       "      <th>2</th>\n",
       "      <td>Queiroga vê possível 3ª onda de Covid-19 e nec...</td>\n",
       "      <td>Covid</td>\n",
       "    </tr>\n",
       "    <tr>\n",
       "      <th>3</th>\n",
       "      <td>Ministro participou de audiência na Câmara. Te...</td>\n",
       "      <td>Covid</td>\n",
       "    </tr>\n",
       "    <tr>\n",
       "      <th>4</th>\n",
       "      <td>18 estados brasileiros registram mais mortes p...</td>\n",
       "      <td>Covid</td>\n",
       "    </tr>\n",
       "  </tbody>\n",
       "</table>\n",
       "</div>"
      ],
      "text/plain": [
       "                                              Título Categoria\n",
       "0  Em novo cronograma, Saúde reduz previsão de va...     Covid\n",
       "1  Mudança ocorre principalmente na estimativa de...     Covid\n",
       "2  Queiroga vê possível 3ª onda de Covid-19 e nec...     Covid\n",
       "3  Ministro participou de audiência na Câmara. Te...     Covid\n",
       "4  18 estados brasileiros registram mais mortes p...     Covid"
      ]
     },
     "execution_count": 2,
     "metadata": {},
     "output_type": "execute_result"
    }
   ],
   "source": [
    "df = pd.read_excel(input_folder+\"news.xlsx\")\n",
    "df.head()"
   ]
  },
  {
   "cell_type": "code",
   "execution_count": 8,
   "id": "f60c9c40",
   "metadata": {
    "ExecuteTime": {
     "end_time": "2021-05-27T11:24:37.471523Z",
     "start_time": "2021-05-27T11:24:37.450926Z"
    }
   },
   "outputs": [
    {
     "data": {
      "text/html": [
       "<div>\n",
       "<style scoped>\n",
       "    .dataframe tbody tr th:only-of-type {\n",
       "        vertical-align: middle;\n",
       "    }\n",
       "\n",
       "    .dataframe tbody tr th {\n",
       "        vertical-align: top;\n",
       "    }\n",
       "\n",
       "    .dataframe thead th {\n",
       "        text-align: right;\n",
       "    }\n",
       "</style>\n",
       "<table border=\"1\" class=\"dataframe\">\n",
       "  <thead>\n",
       "    <tr style=\"text-align: right;\">\n",
       "      <th></th>\n",
       "      <th>title_lower</th>\n",
       "      <th>Categoria</th>\n",
       "      <th>Importante</th>\n",
       "    </tr>\n",
       "  </thead>\n",
       "  <tbody>\n",
       "    <tr>\n",
       "      <th>46</th>\n",
       "      <td>prefeitura de sp inicia triagem para localizar...</td>\n",
       "      <td>Covid</td>\n",
       "      <td>1</td>\n",
       "    </tr>\n",
       "    <tr>\n",
       "      <th>16</th>\n",
       "      <td>ações ambev (abev3): saiba qual o preço hoje</td>\n",
       "      <td>Ambev</td>\n",
       "      <td>0</td>\n",
       "    </tr>\n",
       "    <tr>\n",
       "      <th>4</th>\n",
       "      <td>18 estados brasileiros registram mais mortes p...</td>\n",
       "      <td>Covid</td>\n",
       "      <td>1</td>\n",
       "    </tr>\n",
       "    <tr>\n",
       "      <th>9</th>\n",
       "      <td>a ambev está desenvolvendo uma máquina de refi...</td>\n",
       "      <td>Ambev</td>\n",
       "      <td>0</td>\n",
       "    </tr>\n",
       "    <tr>\n",
       "      <th>28</th>\n",
       "      <td>o governador de são paulo, joão doria (psdb), ...</td>\n",
       "      <td>Covid</td>\n",
       "      <td>1</td>\n",
       "    </tr>\n",
       "    <tr>\n",
       "      <th>41</th>\n",
       "      <td>sp: 77% da vítimas fatais da covid-19 não conc...</td>\n",
       "      <td>Covid</td>\n",
       "      <td>1</td>\n",
       "    </tr>\n",
       "    <tr>\n",
       "      <th>58</th>\n",
       "      <td>playstation trabalha em 'agentes' ia que vão j...</td>\n",
       "      <td>Videogame</td>\n",
       "      <td>0</td>\n",
       "    </tr>\n",
       "    <tr>\n",
       "      <th>5</th>\n",
       "      <td>dezoito estados brasileiros registraram mais m...</td>\n",
       "      <td>Covid</td>\n",
       "      <td>1</td>\n",
       "    </tr>\n",
       "    <tr>\n",
       "      <th>61</th>\n",
       "      <td>se você é fã do playstation, prepare-se para v...</td>\n",
       "      <td>Videogame</td>\n",
       "      <td>0</td>\n",
       "    </tr>\n",
       "    <tr>\n",
       "      <th>12</th>\n",
       "      <td>ambev, vivo, c&amp;a e outras têm 2.000 vagas de e...</td>\n",
       "      <td>Ambev</td>\n",
       "      <td>0</td>\n",
       "    </tr>\n",
       "  </tbody>\n",
       "</table>\n",
       "</div>"
      ],
      "text/plain": [
       "                                          title_lower  Categoria  Importante\n",
       "46  prefeitura de sp inicia triagem para localizar...      Covid           1\n",
       "16       ações ambev (abev3): saiba qual o preço hoje      Ambev           0\n",
       "4   18 estados brasileiros registram mais mortes p...      Covid           1\n",
       "9   a ambev está desenvolvendo uma máquina de refi...      Ambev           0\n",
       "28  o governador de são paulo, joão doria (psdb), ...      Covid           1\n",
       "41  sp: 77% da vítimas fatais da covid-19 não conc...      Covid           1\n",
       "58  playstation trabalha em 'agentes' ia que vão j...  Videogame           0\n",
       "5   dezoito estados brasileiros registraram mais m...      Covid           1\n",
       "61  se você é fã do playstation, prepare-se para v...  Videogame           0\n",
       "12  ambev, vivo, c&a e outras têm 2.000 vagas de e...      Ambev           0"
      ]
     },
     "execution_count": 8,
     "metadata": {},
     "output_type": "execute_result"
    }
   ],
   "source": [
    "df_mod = df.copy()\n",
    "df_mod[\"Importante\"] = np.where(df_mod[\"Categoria\"]==\"Covid\", 1, 0)\n",
    "df_mod[\"title_lower\"] = df_mod[\"Título\"].str.lower()\n",
    "df_mod = df_mod[[\"title_lower\", \"Categoria\", \"Importante\"]].copy()\n",
    "df_mod.sample(10, random_state=42)"
   ]
  },
  {
   "cell_type": "code",
   "execution_count": 14,
   "id": "9df0a76b",
   "metadata": {
    "ExecuteTime": {
     "end_time": "2021-05-27T11:50:24.126793Z",
     "start_time": "2021-05-27T11:50:24.112841Z"
    }
   },
   "outputs": [
    {
     "data": {
      "text/plain": [
       "<re.Match object; span=(0, 64), match='em novo cronograma, saúde reduz previsão de vacin>"
      ]
     },
     "execution_count": 14,
     "metadata": {},
     "output_type": "execute_result"
    }
   ],
   "source": [
    "# df_mod[\"Contem palavra Covid\"] = np.where(df_mod[\"title_lower\"]==\"Covid\", 1, 0)\n",
    "\n",
    "txt = df_mod.loc[0, \"title_lower\"]\n",
    "x = re.search(\".*covid*\", txt)\n",
    "x"
   ]
  },
  {
   "cell_type": "code",
   "execution_count": 15,
   "id": "486b5bca",
   "metadata": {
    "ExecuteTime": {
     "end_time": "2021-05-27T11:52:27.118532Z",
     "start_time": "2021-05-27T11:52:27.107493Z"
    }
   },
   "outputs": [
    {
     "data": {
      "text/html": [
       "<div>\n",
       "<style scoped>\n",
       "    .dataframe tbody tr th:only-of-type {\n",
       "        vertical-align: middle;\n",
       "    }\n",
       "\n",
       "    .dataframe tbody tr th {\n",
       "        vertical-align: top;\n",
       "    }\n",
       "\n",
       "    .dataframe thead th {\n",
       "        text-align: right;\n",
       "    }\n",
       "</style>\n",
       "<table border=\"1\" class=\"dataframe\">\n",
       "  <thead>\n",
       "    <tr style=\"text-align: right;\">\n",
       "      <th></th>\n",
       "      <th>title_lower</th>\n",
       "      <th>Categoria</th>\n",
       "      <th>Importante</th>\n",
       "      <th>covid</th>\n",
       "    </tr>\n",
       "  </thead>\n",
       "  <tbody>\n",
       "    <tr>\n",
       "      <th>0</th>\n",
       "      <td>em novo cronograma, saúde reduz previsão de va...</td>\n",
       "      <td>Covid</td>\n",
       "      <td>1</td>\n",
       "      <td>1</td>\n",
       "    </tr>\n",
       "    <tr>\n",
       "      <th>1</th>\n",
       "      <td>mudança ocorre principalmente na estimativa de...</td>\n",
       "      <td>Covid</td>\n",
       "      <td>1</td>\n",
       "      <td>0</td>\n",
       "    </tr>\n",
       "    <tr>\n",
       "      <th>2</th>\n",
       "      <td>queiroga vê possível 3ª onda de covid-19 e nec...</td>\n",
       "      <td>Covid</td>\n",
       "      <td>1</td>\n",
       "      <td>1</td>\n",
       "    </tr>\n",
       "    <tr>\n",
       "      <th>3</th>\n",
       "      <td>ministro participou de audiência na câmara. te...</td>\n",
       "      <td>Covid</td>\n",
       "      <td>1</td>\n",
       "      <td>0</td>\n",
       "    </tr>\n",
       "    <tr>\n",
       "      <th>4</th>\n",
       "      <td>18 estados brasileiros registram mais mortes p...</td>\n",
       "      <td>Covid</td>\n",
       "      <td>1</td>\n",
       "      <td>1</td>\n",
       "    </tr>\n",
       "  </tbody>\n",
       "</table>\n",
       "</div>"
      ],
      "text/plain": [
       "                                         title_lower Categoria  Importante  \\\n",
       "0  em novo cronograma, saúde reduz previsão de va...     Covid           1   \n",
       "1  mudança ocorre principalmente na estimativa de...     Covid           1   \n",
       "2  queiroga vê possível 3ª onda de covid-19 e nec...     Covid           1   \n",
       "3  ministro participou de audiência na câmara. te...     Covid           1   \n",
       "4  18 estados brasileiros registram mais mortes p...     Covid           1   \n",
       "\n",
       "   covid  \n",
       "0      1  \n",
       "1      0  \n",
       "2      1  \n",
       "3      0  \n",
       "4      1  "
      ]
     },
     "execution_count": 15,
     "metadata": {},
     "output_type": "execute_result"
    }
   ],
   "source": [
    "df_mod[\"covid\"] = np.where(df_mod[\"title_lower\"].str.contains(\"covid\"), 1, 0)\n",
    "\n",
    "df_mod.head()"
   ]
  },
  {
   "cell_type": "code",
   "execution_count": null,
   "id": "f9373a69",
   "metadata": {},
   "outputs": [],
   "source": []
  }
 ],
 "metadata": {
  "hide_input": false,
  "kernelspec": {
   "display_name": "Python 3",
   "language": "python",
   "name": "python3"
  },
  "language_info": {
   "codemirror_mode": {
    "name": "ipython",
    "version": 3
   },
   "file_extension": ".py",
   "mimetype": "text/x-python",
   "name": "python",
   "nbconvert_exporter": "python",
   "pygments_lexer": "ipython3",
   "version": "3.8.5"
  },
  "toc": {
   "base_numbering": 1,
   "nav_menu": {},
   "number_sections": true,
   "sideBar": true,
   "skip_h1_title": false,
   "title_cell": "Table of Contents",
   "title_sidebar": "Contents",
   "toc_cell": false,
   "toc_position": {},
   "toc_section_display": true,
   "toc_window_display": false
  }
 },
 "nbformat": 4,
 "nbformat_minor": 5
}
